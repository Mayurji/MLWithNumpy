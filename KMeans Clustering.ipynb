{
 "cells": [
  {
   "cell_type": "markdown",
   "metadata": {},
   "source": [
    "### KMeans Clustering\n",
    "\n",
    "* Initialize the Number of cluster to create and number of iterations.\n",
    "* Initialize random centroids\n",
    "* Create Cluster with random centroids using Euclidean Distance\n",
    "* Recalculate Centroids on new created cluster in step 3\n",
    "* Repeat step 3 and 4, until convergence\n",
    "* Find convergence using distance between old and new centroids.\n",
    "* Assign labels to samples."
   ]
  },
  {
   "cell_type": "code",
   "execution_count": 13,
   "metadata": {},
   "outputs": [],
   "source": [
    "import numpy as np\n",
    "from collections import Counter"
   ]
  },
  {
   "cell_type": "code",
   "execution_count": 10,
   "metadata": {},
   "outputs": [],
   "source": [
    "class KMeans:\n",
    "    def __init__(self, k=3, iterations=100):\n",
    "        self.k = k\n",
    "        self.iters = iterations\n",
    "        \n",
    "    def euclideanDistance(self, V1, V2):\n",
    "        return np.sqrt(np.sum((V1 - V2) ** 2))\n",
    "    \n",
    "    def createCluster(self, centroids):\n",
    "        clusters = [[] for _ in range(self.k)]\n",
    "        for i, sample in enumerate(self.X):\n",
    "            distances = [self.euclideanDistance(sample, c) for c in centroids]\n",
    "            distance_idx = np.argmin(distances)\n",
    "            clusters[distance_idx].append(i)\n",
    "            \n",
    "        return clusters\n",
    "    \n",
    "    def getNewCentroids(self, clusters):\n",
    "        centroids = np.zeros((self.k, self.n_features))\n",
    "        for i, c in enumerate(clusters):\n",
    "            cluster_mean = np.mean(self.X[c], axis=0)\n",
    "            centroids[i] = cluster_mean\n",
    "            \n",
    "        return centroids\n",
    "    \n",
    "    def isConverged(self, old_centroids, new_centroids):\n",
    "        distances = [self.euclideanDistance(old_centroids[i], new_centroids[i]) for i in range(self.k)]\n",
    "        return sum(distances)==0\n",
    "    \n",
    "    def getLabels(self, clusters):\n",
    "        nlabels = np.empty(self.n_samples)\n",
    "        for i, cluster in enumerate(clusters):\n",
    "            for sample_idx in cluster:\n",
    "                nlabels[sample_idx] = i\n",
    "        return nlabels\n",
    "        \n",
    "    def predict(self, X):\n",
    "        self.X = X\n",
    "        self.n_samples, self.n_features = X.shape\n",
    "        random_idx = np.random.choice(self.n_samples, self.k, replace=False)\n",
    "        self.centroids = [self.X[i] for i in random_idx]\n",
    "        \n",
    "        for _ in range(self.iters):\n",
    "            self.clusters = self.createCluster(self.centroids)\n",
    "            old_centroids = self.centroids\n",
    "            self.centroids = self.getNewCentroids(self.clusters)\n",
    "            \n",
    "            if self.isConverged:\n",
    "                break\n",
    "                \n",
    "        return self.getLabels(self.clusters)"
   ]
  },
  {
   "cell_type": "code",
   "execution_count": 15,
   "metadata": {},
   "outputs": [
    {
     "name": "stdout",
     "output_type": "stream",
     "text": [
      "(500, 2)\n",
      "3\n",
      "Counter({2.0: 168, 0.0: 168, 1.0: 164})\n"
     ]
    }
   ],
   "source": [
    "if __name__ == \"__main__\":\n",
    "    from sklearn.datasets import make_blobs\n",
    "\n",
    "    X, y = make_blobs(\n",
    "        centers=3, n_samples=500, n_features=2, shuffle=True, random_state=40\n",
    "    )\n",
    "    print(X.shape)\n",
    "\n",
    "    clusters = len(np.unique(y))\n",
    "    print(clusters)\n",
    "\n",
    "    k = KMeans(k=clusters, iterations=150)\n",
    "    y_pred = k.predict(X)\n",
    "    print(Counter(y_pred))"
   ]
  },
  {
   "cell_type": "code",
   "execution_count": null,
   "metadata": {},
   "outputs": [],
   "source": []
  }
 ],
 "metadata": {
  "kernelspec": {
   "display_name": "Python 3",
   "language": "python",
   "name": "python3"
  },
  "language_info": {
   "codemirror_mode": {
    "name": "ipython",
    "version": 3
   },
   "file_extension": ".py",
   "mimetype": "text/x-python",
   "name": "python",
   "nbconvert_exporter": "python",
   "pygments_lexer": "ipython3",
   "version": "3.7.6"
  }
 },
 "nbformat": 4,
 "nbformat_minor": 4
}
