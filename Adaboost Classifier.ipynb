{
 "cells": [
  {
   "cell_type": "code",
   "execution_count": 4,
   "metadata": {},
   "outputs": [],
   "source": [
    "import numpy as np"
   ]
  },
  {
   "cell_type": "code",
   "execution_count": 8,
   "metadata": {},
   "outputs": [],
   "source": [
    "class DecisionStump:\n",
    "    def __init__(self):\n",
    "        self.feature_idx=None\n",
    "        self.threshold=None\n",
    "        self.alpha=None\n",
    "        self.polarity=1\n",
    "        \n",
    "    def predict(self, X):\n",
    "        n_samples = X.shape[0]\n",
    "        X_column = X[:, self.feature_idx]\n",
    "        predictions = np.ones(n_samples)\n",
    "        if self.polarity == 1:\n",
    "            predictions[X_column < self.threshold] = -1\n",
    "        else:\n",
    "            predictions[X_column > self.threshold] = -1\n",
    "            \n",
    "        return predictions"
   ]
  },
  {
   "cell_type": "code",
   "execution_count": 15,
   "metadata": {},
   "outputs": [],
   "source": [
    "class Adaboost:\n",
    "    def __init__(self, n_clf=5):\n",
    "        self.n_clf = n_clf\n",
    "        \n",
    "    def fit(self, X, y):\n",
    "        n_samples, n_features = X.shape\n",
    "        \n",
    "        w = np.full(n_samples, 1/n_samples)\n",
    "        self.clfs = []\n",
    "        \n",
    "        for _ in range(self.n_clf):\n",
    "            \n",
    "            clf = DecisionStump()\n",
    "            min_error = float('inf')\n",
    "            \n",
    "            for f in range(n_features):\n",
    "                X_column = X[:,f]\n",
    "                thresholds = np.unique(X_column)\n",
    "                \n",
    "                for t in thresholds:\n",
    "                    p=1\n",
    "                    predictions = np.ones(n_samples)\n",
    "                    predictions[X_column < t] = -1\n",
    "                    \n",
    "                    misclassified = w[y!=predictions]\n",
    "                    error = sum(misclassified)\n",
    "                    \n",
    "                    if error > 0.5:\n",
    "                        error = 1-error\n",
    "                        p=-1\n",
    "                        \n",
    "                    if error < min_error:\n",
    "                        clf.polarity = p\n",
    "                        clf.threshold = t\n",
    "                        clf.feature_idx = f\n",
    "                        min_error = error\n",
    "                        \n",
    "            EPS = 1e-10\n",
    "            clf.alpha = 0.5 * np.log((1.0 - min_error + EPS) / (min_error + EPS))\n",
    "            \n",
    "            predictions = clf.predict(X)\n",
    "            \n",
    "            w *= np.exp(-clf.alpha * y * predictions)\n",
    "            w /= np.sum(w)\n",
    "            \n",
    "            self.clfs.append(clf)\n",
    "            \n",
    "    def predict(self, X):\n",
    "        clf_preds = [clf.alpha * clf.predict(X) for clf in self.clfs]\n",
    "        ypred = np.sum(clf_preds, axis=0)\n",
    "        print(ypred)\n",
    "        ypred = np.sign(ypred)\n",
    "        return ypred\n",
    "        "
   ]
  },
  {
   "cell_type": "code",
   "execution_count": 16,
   "metadata": {
    "collapsed": true
   },
   "outputs": [
    {
     "name": "stdout",
     "output_type": "stream",
     "text": [
      "[-4.13373664  2.55039001  1.12396037  2.55039001  2.55039001 -4.13373664\n",
      "  1.39537603  4.13373664  1.12396037  2.97872265  2.55039001  2.55039001\n",
      " -4.13373664  2.55039001  2.27897436  4.13373664  0.52437067  4.13373664\n",
      "  2.55039001  4.13373664 -2.55039001  4.13373664  4.13373664  2.97872265\n",
      "  2.97872265  4.13373664  0.69562773 -4.13373664  0.69562773 -2.55039001\n",
      " -2.55039001 -4.13373664 -1.33039161 -2.55039001  4.13373664  2.55039001\n",
      " -0.09603803  4.13373664  2.27897436 -2.55039001  2.55039001  4.13373664\n",
      "  4.13373664 -2.55039001  4.13373664  1.39537603 -4.13373664 -1.67938466\n",
      "  1.39537603 -4.13373664  2.27897436  4.13373664  4.13373664  2.97872265\n",
      "  0.69562773 -4.13373664 -4.13373664 -2.55039001  4.13373664 -2.55039001\n",
      " -1.67938466 -2.91373823  2.55039001  4.13373664  2.97872265  2.27897436\n",
      "  1.39537603  1.39537603  4.13373664 -2.55039001  4.13373664 -4.13373664\n",
      "  2.97872265  2.55039001  1.39537603  4.13373664  0.52437067  4.13373664\n",
      " -4.13373664 -1.67938466 -4.13373664  4.13373664 -4.13373664 -1.67938466\n",
      " -4.13373664  4.13373664 -2.55039001  1.39537603 -4.13373664 -2.55039001\n",
      " -4.13373664 -4.13373664  2.27897436  2.27897436 -4.13373664 -4.13373664\n",
      "  4.13373664  2.97872265  4.13373664  2.97872265  4.13373664 -4.13373664\n",
      "  2.55039001  2.55039001 -4.13373664 -4.13373664  2.55039001 -2.55039001\n",
      "  4.13373664 -0.52437067  4.13373664 -2.55039001 -1.05897595 -0.52437067]\n",
      "Accuracy: 0.9736842105263158\n"
     ]
    }
   ],
   "source": [
    "if __name__ == \"__main__\":\n",
    "    # Imports\n",
    "    from sklearn import datasets\n",
    "    from sklearn.model_selection import train_test_split\n",
    "\n",
    "    def accuracy(y_true, y_pred):\n",
    "        accuracy = np.sum(y_true == y_pred) / len(y_true)\n",
    "        return accuracy\n",
    "\n",
    "    data = datasets.load_breast_cancer()\n",
    "    X, y = data.data, data.target\n",
    "\n",
    "    y[y == 0] = -1\n",
    "\n",
    "    X_train, X_test, y_train, y_test = train_test_split(\n",
    "        X, y, test_size=0.2, random_state=5\n",
    "    )\n",
    "\n",
    "    # Adaboost classification with 5 weak classifiers\n",
    "    clf = Adaboost(n_clf=5)\n",
    "    clf.fit(X_train, y_train)\n",
    "    y_pred = clf.predict(X_test)\n",
    "\n",
    "    acc = accuracy(y_test, y_pred)\n",
    "    print(\"Accuracy:\", acc)"
   ]
  },
  {
   "cell_type": "code",
   "execution_count": null,
   "metadata": {},
   "outputs": [],
   "source": []
  },
  {
   "cell_type": "code",
   "execution_count": null,
   "metadata": {},
   "outputs": [],
   "source": []
  }
 ],
 "metadata": {
  "kernelspec": {
   "display_name": "Python 3",
   "language": "python",
   "name": "python3"
  },
  "language_info": {
   "codemirror_mode": {
    "name": "ipython",
    "version": 3
   },
   "file_extension": ".py",
   "mimetype": "text/x-python",
   "name": "python",
   "nbconvert_exporter": "python",
   "pygments_lexer": "ipython3",
   "version": "3.7.6"
  }
 },
 "nbformat": 4,
 "nbformat_minor": 4
}
