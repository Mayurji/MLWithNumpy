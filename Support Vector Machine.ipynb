{
 "cells": [
  {
   "cell_type": "code",
   "execution_count": 1,
   "metadata": {},
   "outputs": [],
   "source": [
    "import numpy as np"
   ]
  },
  {
   "cell_type": "code",
   "execution_count": 6,
   "metadata": {},
   "outputs": [],
   "source": [
    "class SVM:\n",
    "    def __init__(self, lambda_val=0.01, iters=100, lr=0.001):\n",
    "        self.lambdas = lambda_val\n",
    "        self.iters = iters\n",
    "        self.lr = lr\n",
    "        \n",
    "    def fit(self, X, y):\n",
    "        self.X = X\n",
    "        n_samples, n_features = X.shape\n",
    "        y_ = np.where(y<=0, -1, 1)\n",
    "        self.w = np.zeros(n_features)\n",
    "        self.b = 0\n",
    "        \n",
    "        for _ in range(self.iters):\n",
    "            for idx, x in enumerate(self.X):\n",
    "                condition = y_[idx] * (np.dot(x, self.w) + self.b) >= 1\n",
    "                if condition:\n",
    "                    self.w -= self.lr * (2 * self.lambdas * self.w)\n",
    "                else:\n",
    "                    self.w -= self.lr * (2 * self.lambdas * self.w - np.dot(x, y_[idx]))\n",
    "                    self.b -= self.lr * y_[idx]\n",
    "                    \n",
    "    def predict(self, x):\n",
    "        y_pred = np.dot(x, self.w) + self.b\n",
    "        return np.sign(y_pred)"
   ]
  },
  {
   "cell_type": "code",
   "execution_count": 7,
   "metadata": {},
   "outputs": [
    {
     "name": "stdout",
     "output_type": "stream",
     "text": [
      "[0.57787454 0.14695336] -0.06200000000000005\n"
     ]
    },
    {
     "data": {
      "image/png": "[encoded data removed]",
      "text/plain": [
       "<Figure size 432x288 with 1 Axes>"
      ]
     },
     "metadata": {
      "needs_background": "light"
     },
     "output_type": "display_data"
    }
   ],
   "source": [
    "# Imports\n",
    "from sklearn import datasets\n",
    "import matplotlib.pyplot as plt\n",
    "\n",
    "X, y = datasets.make_blobs(\n",
    "    n_samples=50, n_features=2, centers=2, cluster_std=1.05, random_state=40\n",
    ")\n",
    "y = np.where(y == 0, -1, 1)\n",
    "\n",
    "clf = SVM()\n",
    "clf.fit(X, y)\n",
    "# predictions = clf.predict(X)\n",
    "\n",
    "print(clf.w, clf.b)\n",
    "\n",
    "def visualize_svm():\n",
    "    def get_hyperplane_value(x, w, b, offset):\n",
    "        return (-w[0] * x + b + offset) / w[1]\n",
    "\n",
    "    fig = plt.figure()\n",
    "    ax = fig.add_subplot(1, 1, 1)\n",
    "    plt.scatter(X[:, 0], X[:, 1], marker=\"o\", c=y)\n",
    "\n",
    "    x0_1 = np.amin(X[:, 0])\n",
    "    x0_2 = np.amax(X[:, 0])\n",
    "\n",
    "    x1_1 = get_hyperplane_value(x0_1, clf.w, clf.b, 0)\n",
    "    x1_2 = get_hyperplane_value(x0_2, clf.w, clf.b, 0)\n",
    "\n",
    "    x1_1_m = get_hyperplane_value(x0_1, clf.w, clf.b, -1)\n",
    "    x1_2_m = get_hyperplane_value(x0_2, clf.w, clf.b, -1)\n",
    "\n",
    "    x1_1_p = get_hyperplane_value(x0_1, clf.w, clf.b, 1)\n",
    "    x1_2_p = get_hyperplane_value(x0_2, clf.w, clf.b, 1)\n",
    "\n",
    "    ax.plot([x0_1, x0_2], [x1_1, x1_2], \"y--\")\n",
    "    ax.plot([x0_1, x0_2], [x1_1_m, x1_2_m], \"k\")\n",
    "    ax.plot([x0_1, x0_2], [x1_1_p, x1_2_p], \"k\")\n",
    "\n",
    "    x1_min = np.amin(X[:, 1])\n",
    "    x1_max = np.amax(X[:, 1])\n",
    "    ax.set_ylim([x1_min - 3, x1_max + 3])\n",
    "\n",
    "    plt.show()\n",
    "\n",
    "visualize_svm()"
   ]
  },
  {
   "cell_type": "code",
   "execution_count": null,
   "metadata": {},
   "outputs": [],
   "source": []
  },
  {
   "cell_type": "code",
   "execution_count": null,
   "metadata": {},
   "outputs": [],
   "source": []
  }
 ],
 "metadata": {
  "kernelspec": {
   "display_name": "Python 3",
   "language": "python",
   "name": "python3"
  },
  "language_info": {
   "codemirror_mode": {
    "name": "ipython",
    "version": 3
   },
   "file_extension": ".py",
   "mimetype": "text/x-python",
   "name": "python",
   "nbconvert_exporter": "python",
   "pygments_lexer": "ipython3",
   "version": "3.7.6"
  }
 },
 "nbformat": 4,
 "nbformat_minor": 4
}
